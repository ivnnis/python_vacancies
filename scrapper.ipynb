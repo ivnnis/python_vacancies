{
 "cells": [
  {
   "cell_type": "code",
   "execution_count": 1,
   "id": "53049300",
   "metadata": {},
   "outputs": [],
   "source": [
    "from selenium import webdriver\n",
    "from selenium.webdriver.chrome.service import Service\n",
    "from selenium.webdriver.common.by import By\n",
    "from bs4 import BeautifulSoup"
   ]
  },
  {
   "cell_type": "code",
   "execution_count": 2,
   "id": "cb291c51",
   "metadata": {},
   "outputs": [],
   "source": [
    "url = r'https://hh.ru/search/vacancy?area=1&search_field=name&search_field=company_name&search_field=description&experience=noExperience&text=Python&from=suggest_post&page=0&hhtmFrom=vacancy_search_list'"
   ]
  },
  {
   "cell_type": "code",
   "execution_count": 3,
   "id": "9b420a49",
   "metadata": {},
   "outputs": [],
   "source": [
    "ser = Service('chromedriver.exe')\n",
    "options = webdriver.ChromeOptions()\n",
    "options.add_argument('headless')\n",
    "browser = webdriver.Chrome(service=ser, options=options)"
   ]
  },
  {
   "cell_type": "code",
   "execution_count": 4,
   "id": "dd61a972",
   "metadata": {},
   "outputs": [],
   "source": [
    "browser.get(url)\n",
    "requiredHtml = browser.page_source\n",
    "soup = BeautifulSoup(requiredHtml, 'html5lib')"
   ]
  },
  {
   "cell_type": "code",
   "execution_count": 5,
   "id": "7d283224",
   "metadata": {},
   "outputs": [],
   "source": [
    "buttons = soup.find_all(\"a\", {\"data-qa\": \"pager-page\"})\n",
    "number_of_pages = buttons[-1].text"
   ]
  },
  {
   "cell_type": "code",
   "execution_count": 10,
   "id": "9d159911",
   "metadata": {},
   "outputs": [],
   "source": [
    "links = []\n",
    "for i in range(int(number_of_pages)):\n",
    "    browser.get(f'https://hh.ru/search/vacancy?area=1&search_field=name&search_field=company_name&search_field=description&experience=between1And3&text=Python&from=suggest_post&page={i}&hhtmFrom=vacancy_search_list')\n",
    "    requiredHtml = browser.page_source\n",
    "    soup = BeautifulSoup(requiredHtml, 'html5lib')\n",
    "    for link in soup.find_all(\"a\", {\"data-qa\": \"vacancy-serp__vacancy-title\"}):\n",
    "        links.append(link.get('href').split('?')[0])"
   ]
  },
  {
   "cell_type": "code",
   "execution_count": 11,
   "id": "c1140e98",
   "metadata": {},
   "outputs": [
    {
     "data": {
      "text/plain": [
       "600"
      ]
     },
     "execution_count": 11,
     "metadata": {},
     "output_type": "execute_result"
    }
   ],
   "source": [
    "len(links)"
   ]
  },
  {
   "cell_type": "code",
   "execution_count": 12,
   "id": "20639e13",
   "metadata": {},
   "outputs": [],
   "source": [
    "result = []\n",
    "for link in links:\n",
    "    try:\n",
    "        browser.get(link)\n",
    "    except:\n",
    "        continue\n",
    "    soup = BeautifulSoup(browser.page_source, 'html5lib')\n",
    "    description = soup.find(\"div\", {\"data-qa\": \"vacancy-description\"})\n",
    "    if description is None:\n",
    "        continue\n",
    "    else:\n",
    "        if len(description.text)<1000:\n",
    "            result.append(link)"
   ]
  },
  {
   "cell_type": "code",
   "execution_count": 9,
   "id": "b9f304cd",
   "metadata": {},
   "outputs": [
    {
     "data": {
      "text/plain": [
       "['https://korolev.hh.ru/vacancy/50952818',\n",
       " 'https://korolev.hh.ru/vacancy/51905488',\n",
       " 'https://korolev.hh.ru/vacancy/52021323',\n",
       " 'https://korolev.hh.ru/vacancy/51952618',\n",
       " 'https://korolev.hh.ru/vacancy/52043924',\n",
       " 'https://korolev.hh.ru/vacancy/51482724',\n",
       " 'https://korolev.hh.ru/vacancy/52044360',\n",
       " 'https://korolev.hh.ru/vacancy/51098802',\n",
       " 'https://korolev.hh.ru/vacancy/52087267',\n",
       " 'https://korolev.hh.ru/vacancy/52030504',\n",
       " 'https://korolev.hh.ru/vacancy/48504803',\n",
       " 'https://korolev.hh.ru/vacancy/52039329',\n",
       " 'https://korolev.hh.ru/vacancy/49794700',\n",
       " 'https://korolev.hh.ru/vacancy/50943512',\n",
       " 'https://korolev.hh.ru/vacancy/50079157',\n",
       " 'https://korolev.hh.ru/vacancy/51992244',\n",
       " 'https://korolev.hh.ru/vacancy/51984341',\n",
       " 'https://korolev.hh.ru/vacancy/50713630',\n",
       " 'https://korolev.hh.ru/vacancy/48504798',\n",
       " 'https://korolev.hh.ru/vacancy/52083840',\n",
       " 'https://korolev.hh.ru/vacancy/51354613',\n",
       " 'https://korolev.hh.ru/vacancy/51179621',\n",
       " 'https://korolev.hh.ru/vacancy/50880086',\n",
       " 'https://korolev.hh.ru/vacancy/49923596',\n",
       " 'https://korolev.hh.ru/vacancy/50809922',\n",
       " 'https://korolev.hh.ru/vacancy/50535114',\n",
       " 'https://korolev.hh.ru/vacancy/49648908',\n",
       " 'https://korolev.hh.ru/vacancy/51217251',\n",
       " 'https://korolev.hh.ru/vacancy/49940952',\n",
       " 'https://korolev.hh.ru/vacancy/51720009',\n",
       " 'https://korolev.hh.ru/vacancy/51425378',\n",
       " 'https://korolev.hh.ru/vacancy/48972778',\n",
       " 'https://korolev.hh.ru/vacancy/51638670',\n",
       " 'https://korolev.hh.ru/vacancy/51708260',\n",
       " 'https://korolev.hh.ru/vacancy/51971012',\n",
       " 'https://korolev.hh.ru/vacancy/51690937',\n",
       " 'https://korolev.hh.ru/vacancy/51698022',\n",
       " 'https://korolev.hh.ru/vacancy/51293929',\n",
       " 'https://korolev.hh.ru/vacancy/51657420',\n",
       " 'https://korolev.hh.ru/vacancy/50942679',\n",
       " 'https://korolev.hh.ru/vacancy/51643493',\n",
       " 'https://korolev.hh.ru/vacancy/51726786',\n",
       " 'https://korolev.hh.ru/vacancy/50423444',\n",
       " 'https://korolev.hh.ru/vacancy/51209568',\n",
       " 'https://korolev.hh.ru/vacancy/40658063',\n",
       " 'https://korolev.hh.ru/vacancy/51219748',\n",
       " 'https://korolev.hh.ru/vacancy/51204710',\n",
       " 'https://korolev.hh.ru/vacancy/51284232',\n",
       " 'https://korolev.hh.ru/vacancy/49490527',\n",
       " 'https://korolev.hh.ru/vacancy/46267784',\n",
       " 'https://korolev.hh.ru/vacancy/51285757',\n",
       " 'https://korolev.hh.ru/vacancy/51051784',\n",
       " 'https://korolev.hh.ru/vacancy/51627828',\n",
       " 'https://korolev.hh.ru/vacancy/49433931',\n",
       " 'https://korolev.hh.ru/vacancy/50921424',\n",
       " 'https://korolev.hh.ru/vacancy/51197766',\n",
       " 'https://korolev.hh.ru/vacancy/50879375',\n",
       " 'https://korolev.hh.ru/vacancy/51090262',\n",
       " 'https://korolev.hh.ru/vacancy/50762204',\n",
       " 'https://korolev.hh.ru/vacancy/45245820']"
      ]
     },
     "execution_count": 9,
     "metadata": {},
     "output_type": "execute_result"
    }
   ],
   "source": [
    "result"
   ]
  },
  {
   "cell_type": "code",
   "execution_count": null,
   "id": "e20e7693",
   "metadata": {},
   "outputs": [],
   "source": []
  }
 ],
 "metadata": {
  "kernelspec": {
   "display_name": "Python 3 (ipykernel)",
   "language": "python",
   "name": "python3"
  },
  "language_info": {
   "codemirror_mode": {
    "name": "ipython",
    "version": 3
   },
   "file_extension": ".py",
   "mimetype": "text/x-python",
   "name": "python",
   "nbconvert_exporter": "python",
   "pygments_lexer": "ipython3",
   "version": "3.10.0"
  }
 },
 "nbformat": 4,
 "nbformat_minor": 5
}
